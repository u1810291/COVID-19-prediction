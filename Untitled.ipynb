{
 "cells": [
  {
   "cell_type": "code",
   "execution_count": 9,
   "metadata": {},
   "outputs": [
    {
     "name": "stdout",
     "output_type": "stream",
     "text": [
      "False\n"
     ]
    }
   ],
   "source": [
    "import pandas as pd\n",
    "\n",
    "total_cases = pd.read_csv('total_cases.csv')\n",
    "total_deaths = pd.read_csv('total_deaths.csv')\n",
    "print(pd.DataFrame.equals(total_cases, total_deaths))"
   ]
  },
  {
   "cell_type": "code",
   "execution_count": 10,
   "metadata": {},
   "outputs": [
    {
     "name": "stdout",
     "output_type": "stream",
     "text": [
      "           date     World  Afghanistan  Albania  Algeria  Andorra   Angola  \\\n",
      "0    2019-12-31        27          NaN      NaN      NaN      NaN      NaN   \n",
      "1    2020-01-01        27          NaN      NaN      NaN      NaN      NaN   \n",
      "2    2020-01-02        27          NaN      NaN      NaN      NaN      NaN   \n",
      "3    2020-01-03        44          NaN      NaN      NaN      NaN      NaN   \n",
      "4    2020-01-04        44          NaN      NaN      NaN      NaN      NaN   \n",
      "..          ...       ...          ...      ...      ...      ...      ...   \n",
      "307  2020-11-02  46671100      41633.0  21202.0  58272.0   4825.0  10805.0   \n",
      "308  2020-11-03  47141197      41728.0  21523.0  58574.0   4888.0  11035.0   \n",
      "309  2020-11-04  47645301      41814.0  21904.0  58979.0   4910.0  11228.0   \n",
      "310  2020-11-05  48208621      41935.0  22300.0  59527.0   5045.0  11577.0   \n",
      "311  2020-11-06  48763203      41975.0  22721.0  59527.0   5135.0  11813.0   \n",
      "\n",
      "     Anguilla  Antigua and Barbuda  Argentina  ...  Uruguay  Uzbekistan  \\\n",
      "0         NaN                  NaN        NaN  ...      NaN         NaN   \n",
      "1         NaN                  NaN        NaN  ...      NaN         NaN   \n",
      "2         NaN                  NaN        NaN  ...      NaN         NaN   \n",
      "3         NaN                  NaN        NaN  ...      NaN         NaN   \n",
      "4         NaN                  NaN        NaN  ...      NaN         NaN   \n",
      "..        ...                  ...        ...  ...      ...         ...   \n",
      "307       3.0                128.0  1173520.0  ...   3149.0     67156.0   \n",
      "308       3.0                128.0  1183118.0  ...   3165.0     67254.0   \n",
      "309       3.0                130.0  1195263.0  ...   3196.0     67553.0   \n",
      "310       3.0                130.0  1205915.0  ...   3245.0     67779.0   \n",
      "311       3.0                130.0  1217015.0  ...   3309.0     68139.0   \n",
      "\n",
      "     Vatican  Venezuela  Vietnam  Wallis and Futuna  Western Sahara   Yemen  \\\n",
      "0        NaN        NaN      NaN                NaN             NaN     NaN   \n",
      "1        NaN        NaN      NaN                NaN             NaN     NaN   \n",
      "2        NaN        NaN      NaN                NaN             NaN     NaN   \n",
      "3        NaN        NaN      NaN                NaN             NaN     NaN   \n",
      "4        NaN        NaN      NaN                NaN             NaN     NaN   \n",
      "..       ...        ...      ...                ...             ...     ...   \n",
      "307     26.0    92325.0   1180.0                1.0           766.0  2063.0   \n",
      "308     26.0    92705.0   1192.0                1.0           766.0  2063.0   \n",
      "309     26.0    93100.0   1203.0                1.0           766.0  2067.0   \n",
      "310     26.0    93100.0   1207.0                1.0           766.0  2067.0   \n",
      "311     26.0    93921.0   1207.0                1.0           766.0  2067.0   \n",
      "\n",
      "      Zambia  Zimbabwe  \n",
      "0        NaN       NaN  \n",
      "1        NaN       NaN  \n",
      "2        NaN       NaN  \n",
      "3        NaN       NaN  \n",
      "4        NaN       NaN  \n",
      "..       ...       ...  \n",
      "307  16480.0    8374.0  \n",
      "308  16543.0    8389.0  \n",
      "309  16661.0    8410.0  \n",
      "310  16698.0    8427.0  \n",
      "311  16770.0    8444.0  \n",
      "\n",
      "[312 rows x 215 columns]\n"
     ]
    }
   ],
   "source": [
    "import pandas as pd\n",
    "\n",
    "total_cases = pd.read_csv('total_cases.csv')\n",
    "total_deaths = pd.read_csv('total_deaths.csv')\n",
    "print(total_cases.head(10))"
   ]
  },
  {
   "cell_type": "code",
   "execution_count": 11,
   "metadata": {},
   "outputs": [
    {
     "name": "stdout",
     "output_type": "stream",
     "text": [
      "         date  World  Afghanistan  Albania  Algeria  Andorra  Angola  \\\n",
      "0  2019-12-31     27          NaN      NaN      NaN      NaN     NaN   \n",
      "1  2020-01-01     27          NaN      NaN      NaN      NaN     NaN   \n",
      "2  2020-01-02     27          NaN      NaN      NaN      NaN     NaN   \n",
      "3  2020-01-03     44          NaN      NaN      NaN      NaN     NaN   \n",
      "4  2020-01-04     44          NaN      NaN      NaN      NaN     NaN   \n",
      "5  2020-01-05     59          NaN      NaN      NaN      NaN     NaN   \n",
      "6  2020-01-06     59          NaN      NaN      NaN      NaN     NaN   \n",
      "7  2020-01-07     59          NaN      NaN      NaN      NaN     NaN   \n",
      "8  2020-01-08     59          NaN      NaN      NaN      NaN     NaN   \n",
      "9  2020-01-09     59          NaN      NaN      NaN      NaN     NaN   \n",
      "\n",
      "   Anguilla  Antigua and Barbuda  Argentina  ...  Uruguay  Uzbekistan  \\\n",
      "0       NaN                  NaN        NaN  ...      NaN         NaN   \n",
      "1       NaN                  NaN        NaN  ...      NaN         NaN   \n",
      "2       NaN                  NaN        NaN  ...      NaN         NaN   \n",
      "3       NaN                  NaN        NaN  ...      NaN         NaN   \n",
      "4       NaN                  NaN        NaN  ...      NaN         NaN   \n",
      "5       NaN                  NaN        NaN  ...      NaN         NaN   \n",
      "6       NaN                  NaN        NaN  ...      NaN         NaN   \n",
      "7       NaN                  NaN        NaN  ...      NaN         NaN   \n",
      "8       NaN                  NaN        NaN  ...      NaN         NaN   \n",
      "9       NaN                  NaN        NaN  ...      NaN         NaN   \n",
      "\n",
      "   Vatican  Venezuela  Vietnam  Wallis and Futuna  Western Sahara  Yemen  \\\n",
      "0      NaN        NaN      NaN                NaN             NaN    NaN   \n",
      "1      NaN        NaN      NaN                NaN             NaN    NaN   \n",
      "2      NaN        NaN      NaN                NaN             NaN    NaN   \n",
      "3      NaN        NaN      NaN                NaN             NaN    NaN   \n",
      "4      NaN        NaN      NaN                NaN             NaN    NaN   \n",
      "5      NaN        NaN      NaN                NaN             NaN    NaN   \n",
      "6      NaN        NaN      NaN                NaN             NaN    NaN   \n",
      "7      NaN        NaN      NaN                NaN             NaN    NaN   \n",
      "8      NaN        NaN      NaN                NaN             NaN    NaN   \n",
      "9      NaN        NaN      NaN                NaN             NaN    NaN   \n",
      "\n",
      "   Zambia  Zimbabwe  \n",
      "0     NaN       NaN  \n",
      "1     NaN       NaN  \n",
      "2     NaN       NaN  \n",
      "3     NaN       NaN  \n",
      "4     NaN       NaN  \n",
      "5     NaN       NaN  \n",
      "6     NaN       NaN  \n",
      "7     NaN       NaN  \n",
      "8     NaN       NaN  \n",
      "9     NaN       NaN  \n",
      "\n",
      "[10 rows x 215 columns]\n"
     ]
    }
   ],
   "source": [
    "import pandas as pd\n",
    "\n",
    "total_cases = pd.read_csv('total_cases.csv')\n",
    "total_deaths = pd.read_csv('total_deaths.csv')\n",
    "print(total_cases.tail(10))"
   ]
  },
  {
   "cell_type": "code",
   "execution_count": 12,
   "metadata": {},
   "outputs": [
    {
     "name": "stdout",
     "output_type": "stream",
     "text": [
      "           date     World  Afghanistan  Albania  Algeria  Andorra   Angola  \\\n",
      "302  2020-10-28  44122756      41145.0  19729.0  56706.0   4410.0   9644.0   \n",
      "303  2020-10-29  44636143      41145.0  20040.0  57026.0   4517.0   9871.0   \n",
      "304  2020-10-30  45184124      41268.0  20315.0  57332.0   4567.0  10074.0   \n",
      "305  2020-10-31  45726050      41425.0  20634.0  57651.0   4665.0  10269.0   \n",
      "306  2020-11-01  46183946      41501.0  20875.0  57942.0   4756.0  10558.0   \n",
      "307  2020-11-02  46671100      41633.0  21202.0  58272.0   4825.0  10805.0   \n",
      "308  2020-11-03  47141197      41728.0  21523.0  58574.0   4888.0  11035.0   \n",
      "309  2020-11-04  47645301      41814.0  21904.0  58979.0   4910.0  11228.0   \n",
      "310  2020-11-05  48208621      41935.0  22300.0  59527.0   5045.0  11577.0   \n",
      "311  2020-11-06  48763203      41975.0  22721.0  59527.0   5135.0  11813.0   \n",
      "\n",
      "     Anguilla  Antigua and Barbuda  Argentina  ...  Uruguay  Uzbekistan  \\\n",
      "302       3.0                124.0  1116596.0  ...   2916.0     66037.0   \n",
      "303       3.0                124.0  1130520.0  ...   2981.0     66313.0   \n",
      "304       3.0                124.0  1143211.0  ...   3044.0     66542.0   \n",
      "305       3.0                127.0  1157166.0  ...   3082.0     66628.0   \n",
      "306       3.0                128.0  1166911.0  ...   3124.0     67055.0   \n",
      "307       3.0                128.0  1173520.0  ...   3149.0     67156.0   \n",
      "308       3.0                128.0  1183118.0  ...   3165.0     67254.0   \n",
      "309       3.0                130.0  1195263.0  ...   3196.0     67553.0   \n",
      "310       3.0                130.0  1205915.0  ...   3245.0     67779.0   \n",
      "311       3.0                130.0  1217015.0  ...   3309.0     68139.0   \n",
      "\n",
      "     Vatican  Venezuela  Vietnam  Wallis and Futuna  Western Sahara   Yemen  \\\n",
      "302     26.0    90400.0   1172.0                1.0           766.0  2063.0   \n",
      "303     26.0    90876.0   1173.0                1.0           766.0  2063.0   \n",
      "304     26.0    91280.0   1177.0                1.0           766.0  2063.0   \n",
      "305     26.0    91589.0   1177.0                1.0           766.0  2063.0   \n",
      "306     26.0    92013.0   1180.0                1.0           766.0  2063.0   \n",
      "307     26.0    92325.0   1180.0                1.0           766.0  2063.0   \n",
      "308     26.0    92705.0   1192.0                1.0           766.0  2063.0   \n",
      "309     26.0    93100.0   1203.0                1.0           766.0  2067.0   \n",
      "310     26.0    93100.0   1207.0                1.0           766.0  2067.0   \n",
      "311     26.0    93921.0   1207.0                1.0           766.0  2067.0   \n",
      "\n",
      "      Zambia  Zimbabwe  \n",
      "302  16243.0    8315.0  \n",
      "303  16325.0    8320.0  \n",
      "304  16325.0    8349.0  \n",
      "305  16415.0    8362.0  \n",
      "306  16432.0    8362.0  \n",
      "307  16480.0    8374.0  \n",
      "308  16543.0    8389.0  \n",
      "309  16661.0    8410.0  \n",
      "310  16698.0    8427.0  \n",
      "311  16770.0    8444.0  \n",
      "\n",
      "[10 rows x 215 columns]\n"
     ]
    }
   ],
   "source": [
    "import pandas as pd\n",
    "\n",
    "total_cases = pd.read_csv('total_cases.csv')\n",
    "total_deaths = pd.read_csv('total_deaths.csv')\n",
    "new_cases = pd.read_csv('new_cases.csv')\n",
    "new_deaths = pd.read_csv('new_deaths.csv')\n",
    "full_data = pd.read_csv('full_data.csv')\n",
    "locations = pd.read_csv('locations.csv')\n",
    "print(total_cases.tail(10))"
   ]
  },
  {
   "cell_type": "code",
   "execution_count": 14,
   "metadata": {},
   "outputs": [
    {
     "name": "stdout",
     "output_type": "stream",
     "text": [
      "      countriesAndTerritories           location      continent  \\\n",
      "203  United_States_of_America      United States  North America   \n",
      "204                   Uruguay            Uruguay  South America   \n",
      "205                Uzbekistan         Uzbekistan           Asia   \n",
      "206                 Venezuela          Venezuela  South America   \n",
      "207                   Vietnam            Vietnam           Asia   \n",
      "208         Wallis_and_Futuna  Wallis and Futuna        Oceania   \n",
      "209            Western_Sahara     Western Sahara         Africa   \n",
      "210                     Yemen              Yemen           Asia   \n",
      "211                    Zambia             Zambia         Africa   \n",
      "212                  Zimbabwe           Zimbabwe         Africa   \n",
      "\n",
      "     population_year   population  \n",
      "203           2020.0  331002647.0  \n",
      "204           2020.0    3473727.0  \n",
      "205           2020.0   33469199.0  \n",
      "206           2020.0   28435943.0  \n",
      "207           2020.0   97338583.0  \n",
      "208           2020.0      11246.0  \n",
      "209           2020.0     597330.0  \n",
      "210           2020.0   29825968.0  \n",
      "211           2020.0   18383956.0  \n",
      "212           2020.0   14862927.0  \n"
     ]
    }
   ],
   "source": [
    "import pandas as pd\n",
    "\n",
    "total_cases = pd.read_csv('total_cases.csv')\n",
    "total_deaths = pd.read_csv('total_deaths.csv')\n",
    "new_cases = pd.read_csv('new_cases.csv')\n",
    "new_deaths = pd.read_csv('new_deaths.csv')\n",
    "full_data = pd.read_csv('full_data.csv')\n",
    "locations = pd.read_csv('locations.csv')\n",
    "print(locations.tail(10))"
   ]
  },
  {
   "cell_type": "code",
   "execution_count": 16,
   "metadata": {},
   "outputs": [
    {
     "name": "stdout",
     "output_type": "stream",
     "text": [
      "      countriesAndTerritories           location      continent  \\\n",
      "203  United_States_of_America      United States  North America   \n",
      "204                   Uruguay            Uruguay  South America   \n",
      "205                Uzbekistan         Uzbekistan           Asia   \n",
      "206                 Venezuela          Venezuela  South America   \n",
      "207                   Vietnam            Vietnam           Asia   \n",
      "208         Wallis_and_Futuna  Wallis and Futuna        Oceania   \n",
      "209            Western_Sahara     Western Sahara         Africa   \n",
      "210                     Yemen              Yemen           Asia   \n",
      "211                    Zambia             Zambia         Africa   \n",
      "212                  Zimbabwe           Zimbabwe         Africa   \n",
      "\n",
      "     population_year   population  \n",
      "203           2020.0  331002647.0  \n",
      "204           2020.0    3473727.0  \n",
      "205           2020.0   33469199.0  \n",
      "206           2020.0   28435943.0  \n",
      "207           2020.0   97338583.0  \n",
      "208           2020.0      11246.0  \n",
      "209           2020.0     597330.0  \n",
      "210           2020.0   29825968.0  \n",
      "211           2020.0   18383956.0  \n",
      "212           2020.0   14862927.0  \n"
     ]
    }
   ],
   "source": [
    "import pandas as pd\n",
    "\n",
    "total_cases = pd.read_csv('total_cases.csv')\n",
    "total_deaths = pd.read_csv('total_deaths.csv')\n",
    "new_cases = pd.read_csv('new_cases.csv')\n",
    "new_deaths = pd.read_csv('new_deaths.csv')\n",
    "full_data = pd.read_csv('full_data.csv')\n",
    "locations = pd.read_csv('locations.csv')\n",
    "print(locations.tail(10))"
   ]
  },
  {
   "cell_type": "code",
   "execution_count": 26,
   "metadata": {},
   "outputs": [],
   "source": [
    "import matplotlib.pyplot as plt\n",
    "from sklearn import datasets, linear_model\n",
    "import pandas as pd\n",
    "\n",
    "import numpy as np\n",
    "import csv\n",
    "from sklearn.datasets.base import Bunch\n",
    "\n",
    "def load_my_fancy_dataset():\n",
    "    with open('full_data.csv') as csv_file:\n",
    "        data_file = csv.reader(csv_file)\n",
    "        temp = next(data_file)\n",
    "        n_samples = int(temp[0])\n",
    "        n_features = int(temp[1])\n",
    "        data = np.empty((n_samples, n_features))\n",
    "        target = np.empty((n_samples,), dtype=np.int)\n",
    "\n",
    "        for i, sample in enumerate(data_file):\n",
    "            data[i] = np.asarray(sample[:-1], dtype=np.float64)\n",
    "            target[i] = np.asarray(sample[-1], dtype=np.int)\n",
    "\n",
    "    return Bunch(data=data, target=target)\n",
    "\n",
    "\n"
   ]
  },
  {
   "cell_type": "code",
   "execution_count": 29,
   "metadata": {},
   "outputs": [],
   "source": [
    "import matplotlib.pyplot as plt\n",
    "from sklearn import datasets, linear_model\n",
    "import pandas as pd\n",
    "\n",
    "import numpy as np\n",
    "import csv\n",
    "from sklearn.datasets.base import Bunch\n",
    "\n",
    "def load_my_fancy_dataset():\n",
    "    with open('full_data.csv') as csv_file:\n",
    "        data_file = csv.reader(csv_file)\n",
    "        temp = next(data_file)\n",
    "        n_samples = int(temp[0])\n",
    "        n_features = int(temp[1])\n",
    "        data = np.empty((n_samples, n_features))\n",
    "        target = np.empty((n_samples,), dtype=np.int)\n",
    "        plt.plot(data)\n",
    "        plt.plot(target)\n",
    "        for i, sample in enumerate(data_file):\n",
    "            data[i] = np.asarray(sample[:-1], dtype=np.float64)\n",
    "            target[i] = np.asarray(sample[-1], dtype=np.int)\n",
    "\n",
    "    return Bunch(data=data, target=target)\n",
    "\n",
    "\n"
   ]
  },
  {
   "cell_type": "code",
   "execution_count": 37,
   "metadata": {},
   "outputs": [
    {
     "ename": "TypeError",
     "evalue": "unhashable type: 'numpy.ndarray'",
     "output_type": "error",
     "traceback": [
      "\u001b[0;31m---------------------------------------------------------------------------\u001b[0m",
      "\u001b[0;31mTypeError\u001b[0m                                 Traceback (most recent call last)",
      "\u001b[0;32m<ipython-input-37-cb8c06c231fa>\u001b[0m in \u001b[0;36m<module>\u001b[0;34m\u001b[0m\n\u001b[1;32m     10\u001b[0m \u001b[0mlocations\u001b[0m \u001b[0;34m=\u001b[0m \u001b[0mpd\u001b[0m\u001b[0;34m.\u001b[0m\u001b[0mread_csv\u001b[0m\u001b[0;34m(\u001b[0m\u001b[0;34m'locations.csv'\u001b[0m\u001b[0;34m)\u001b[0m\u001b[0;34m\u001b[0m\u001b[0;34m\u001b[0m\u001b[0m\n\u001b[1;32m     11\u001b[0m \u001b[0;34m\u001b[0m\u001b[0m\n\u001b[0;32m---> 12\u001b[0;31m \u001b[0mplt\u001b[0m\u001b[0;34m.\u001b[0m\u001b[0mplot\u001b[0m\u001b[0;34m(\u001b[0m\u001b[0mfull_data\u001b[0m\u001b[0;34m)\u001b[0m\u001b[0;34m\u001b[0m\u001b[0;34m\u001b[0m\u001b[0m\n\u001b[0m",
      "\u001b[0;32m/home/otabek/snap/jupyter/common/lib/python3.7/site-packages/matplotlib/pyplot.py\u001b[0m in \u001b[0;36mplot\u001b[0;34m(scalex, scaley, data, *args, **kwargs)\u001b[0m\n\u001b[1;32m   2840\u001b[0m     return gca().plot(\n\u001b[1;32m   2841\u001b[0m         \u001b[0;34m*\u001b[0m\u001b[0margs\u001b[0m\u001b[0;34m,\u001b[0m \u001b[0mscalex\u001b[0m\u001b[0;34m=\u001b[0m\u001b[0mscalex\u001b[0m\u001b[0;34m,\u001b[0m \u001b[0mscaley\u001b[0m\u001b[0;34m=\u001b[0m\u001b[0mscaley\u001b[0m\u001b[0;34m,\u001b[0m\u001b[0;34m\u001b[0m\u001b[0;34m\u001b[0m\u001b[0m\n\u001b[0;32m-> 2842\u001b[0;31m         **({\"data\": data} if data is not None else {}), **kwargs)\n\u001b[0m\u001b[1;32m   2843\u001b[0m \u001b[0;34m\u001b[0m\u001b[0m\n\u001b[1;32m   2844\u001b[0m \u001b[0;34m\u001b[0m\u001b[0m\n",
      "\u001b[0;32m/home/otabek/snap/jupyter/common/lib/python3.7/site-packages/matplotlib/axes/_axes.py\u001b[0m in \u001b[0;36mplot\u001b[0;34m(self, scalex, scaley, data, *args, **kwargs)\u001b[0m\n\u001b[1;32m   1741\u001b[0m         \"\"\"\n\u001b[1;32m   1742\u001b[0m         \u001b[0mkwargs\u001b[0m \u001b[0;34m=\u001b[0m \u001b[0mcbook\u001b[0m\u001b[0;34m.\u001b[0m\u001b[0mnormalize_kwargs\u001b[0m\u001b[0;34m(\u001b[0m\u001b[0mkwargs\u001b[0m\u001b[0;34m,\u001b[0m \u001b[0mmlines\u001b[0m\u001b[0;34m.\u001b[0m\u001b[0mLine2D\u001b[0m\u001b[0;34m)\u001b[0m\u001b[0;34m\u001b[0m\u001b[0;34m\u001b[0m\u001b[0m\n\u001b[0;32m-> 1743\u001b[0;31m         \u001b[0mlines\u001b[0m \u001b[0;34m=\u001b[0m \u001b[0;34m[\u001b[0m\u001b[0;34m*\u001b[0m\u001b[0mself\u001b[0m\u001b[0;34m.\u001b[0m\u001b[0m_get_lines\u001b[0m\u001b[0;34m(\u001b[0m\u001b[0;34m*\u001b[0m\u001b[0margs\u001b[0m\u001b[0;34m,\u001b[0m \u001b[0mdata\u001b[0m\u001b[0;34m=\u001b[0m\u001b[0mdata\u001b[0m\u001b[0;34m,\u001b[0m \u001b[0;34m**\u001b[0m\u001b[0mkwargs\u001b[0m\u001b[0;34m)\u001b[0m\u001b[0;34m]\u001b[0m\u001b[0;34m\u001b[0m\u001b[0;34m\u001b[0m\u001b[0m\n\u001b[0m\u001b[1;32m   1744\u001b[0m         \u001b[0;32mfor\u001b[0m \u001b[0mline\u001b[0m \u001b[0;32min\u001b[0m \u001b[0mlines\u001b[0m\u001b[0;34m:\u001b[0m\u001b[0;34m\u001b[0m\u001b[0;34m\u001b[0m\u001b[0m\n\u001b[1;32m   1745\u001b[0m             \u001b[0mself\u001b[0m\u001b[0;34m.\u001b[0m\u001b[0madd_line\u001b[0m\u001b[0;34m(\u001b[0m\u001b[0mline\u001b[0m\u001b[0;34m)\u001b[0m\u001b[0;34m\u001b[0m\u001b[0;34m\u001b[0m\u001b[0m\n",
      "\u001b[0;32m/home/otabek/snap/jupyter/common/lib/python3.7/site-packages/matplotlib/axes/_base.py\u001b[0m in \u001b[0;36m__call__\u001b[0;34m(self, data, *args, **kwargs)\u001b[0m\n\u001b[1;32m    271\u001b[0m                 \u001b[0mthis\u001b[0m \u001b[0;34m+=\u001b[0m \u001b[0margs\u001b[0m\u001b[0;34m[\u001b[0m\u001b[0;36m0\u001b[0m\u001b[0;34m]\u001b[0m\u001b[0;34m,\u001b[0m\u001b[0;34m\u001b[0m\u001b[0;34m\u001b[0m\u001b[0m\n\u001b[1;32m    272\u001b[0m                 \u001b[0margs\u001b[0m \u001b[0;34m=\u001b[0m \u001b[0margs\u001b[0m\u001b[0;34m[\u001b[0m\u001b[0;36m1\u001b[0m\u001b[0;34m:\u001b[0m\u001b[0;34m]\u001b[0m\u001b[0;34m\u001b[0m\u001b[0;34m\u001b[0m\u001b[0m\n\u001b[0;32m--> 273\u001b[0;31m             \u001b[0;32myield\u001b[0m \u001b[0;32mfrom\u001b[0m \u001b[0mself\u001b[0m\u001b[0;34m.\u001b[0m\u001b[0m_plot_args\u001b[0m\u001b[0;34m(\u001b[0m\u001b[0mthis\u001b[0m\u001b[0;34m,\u001b[0m \u001b[0mkwargs\u001b[0m\u001b[0;34m)\u001b[0m\u001b[0;34m\u001b[0m\u001b[0;34m\u001b[0m\u001b[0m\n\u001b[0m\u001b[1;32m    274\u001b[0m \u001b[0;34m\u001b[0m\u001b[0m\n\u001b[1;32m    275\u001b[0m     \u001b[0;32mdef\u001b[0m \u001b[0mget_next_color\u001b[0m\u001b[0;34m(\u001b[0m\u001b[0mself\u001b[0m\u001b[0;34m)\u001b[0m\u001b[0;34m:\u001b[0m\u001b[0;34m\u001b[0m\u001b[0;34m\u001b[0m\u001b[0m\n",
      "\u001b[0;32m/home/otabek/snap/jupyter/common/lib/python3.7/site-packages/matplotlib/axes/_base.py\u001b[0m in \u001b[0;36m_plot_args\u001b[0;34m(self, tup, kwargs)\u001b[0m\n\u001b[1;32m    394\u001b[0m             \u001b[0mself\u001b[0m\u001b[0;34m.\u001b[0m\u001b[0maxes\u001b[0m\u001b[0;34m.\u001b[0m\u001b[0mxaxis\u001b[0m\u001b[0;34m.\u001b[0m\u001b[0mupdate_units\u001b[0m\u001b[0;34m(\u001b[0m\u001b[0mx\u001b[0m\u001b[0;34m)\u001b[0m\u001b[0;34m\u001b[0m\u001b[0;34m\u001b[0m\u001b[0m\n\u001b[1;32m    395\u001b[0m         \u001b[0;32mif\u001b[0m \u001b[0mself\u001b[0m\u001b[0;34m.\u001b[0m\u001b[0maxes\u001b[0m\u001b[0;34m.\u001b[0m\u001b[0myaxis\u001b[0m \u001b[0;32mis\u001b[0m \u001b[0;32mnot\u001b[0m \u001b[0;32mNone\u001b[0m\u001b[0;34m:\u001b[0m\u001b[0;34m\u001b[0m\u001b[0;34m\u001b[0m\u001b[0m\n\u001b[0;32m--> 396\u001b[0;31m             \u001b[0mself\u001b[0m\u001b[0;34m.\u001b[0m\u001b[0maxes\u001b[0m\u001b[0;34m.\u001b[0m\u001b[0myaxis\u001b[0m\u001b[0;34m.\u001b[0m\u001b[0mupdate_units\u001b[0m\u001b[0;34m(\u001b[0m\u001b[0my\u001b[0m\u001b[0;34m)\u001b[0m\u001b[0;34m\u001b[0m\u001b[0;34m\u001b[0m\u001b[0m\n\u001b[0m\u001b[1;32m    397\u001b[0m \u001b[0;34m\u001b[0m\u001b[0m\n\u001b[1;32m    398\u001b[0m         \u001b[0;32mif\u001b[0m \u001b[0mx\u001b[0m\u001b[0;34m.\u001b[0m\u001b[0mshape\u001b[0m\u001b[0;34m[\u001b[0m\u001b[0;36m0\u001b[0m\u001b[0;34m]\u001b[0m \u001b[0;34m!=\u001b[0m \u001b[0my\u001b[0m\u001b[0;34m.\u001b[0m\u001b[0mshape\u001b[0m\u001b[0;34m[\u001b[0m\u001b[0;36m0\u001b[0m\u001b[0;34m]\u001b[0m\u001b[0;34m:\u001b[0m\u001b[0;34m\u001b[0m\u001b[0;34m\u001b[0m\u001b[0m\n",
      "\u001b[0;32m/home/otabek/snap/jupyter/common/lib/python3.7/site-packages/matplotlib/axis.py\u001b[0m in \u001b[0;36mupdate_units\u001b[0;34m(self, data)\u001b[0m\n\u001b[1;32m   1461\u001b[0m         \u001b[0mneednew\u001b[0m \u001b[0;34m=\u001b[0m \u001b[0mself\u001b[0m\u001b[0;34m.\u001b[0m\u001b[0mconverter\u001b[0m \u001b[0;34m!=\u001b[0m \u001b[0mconverter\u001b[0m\u001b[0;34m\u001b[0m\u001b[0;34m\u001b[0m\u001b[0m\n\u001b[1;32m   1462\u001b[0m         \u001b[0mself\u001b[0m\u001b[0;34m.\u001b[0m\u001b[0mconverter\u001b[0m \u001b[0;34m=\u001b[0m \u001b[0mconverter\u001b[0m\u001b[0;34m\u001b[0m\u001b[0;34m\u001b[0m\u001b[0m\n\u001b[0;32m-> 1463\u001b[0;31m         \u001b[0mdefault\u001b[0m \u001b[0;34m=\u001b[0m \u001b[0mself\u001b[0m\u001b[0;34m.\u001b[0m\u001b[0mconverter\u001b[0m\u001b[0;34m.\u001b[0m\u001b[0mdefault_units\u001b[0m\u001b[0;34m(\u001b[0m\u001b[0mdata\u001b[0m\u001b[0;34m,\u001b[0m \u001b[0mself\u001b[0m\u001b[0;34m)\u001b[0m\u001b[0;34m\u001b[0m\u001b[0;34m\u001b[0m\u001b[0m\n\u001b[0m\u001b[1;32m   1464\u001b[0m         \u001b[0;32mif\u001b[0m \u001b[0mdefault\u001b[0m \u001b[0;32mis\u001b[0m \u001b[0;32mnot\u001b[0m \u001b[0;32mNone\u001b[0m \u001b[0;32mand\u001b[0m \u001b[0mself\u001b[0m\u001b[0;34m.\u001b[0m\u001b[0munits\u001b[0m \u001b[0;32mis\u001b[0m \u001b[0;32mNone\u001b[0m\u001b[0;34m:\u001b[0m\u001b[0;34m\u001b[0m\u001b[0;34m\u001b[0m\u001b[0m\n\u001b[1;32m   1465\u001b[0m             \u001b[0mself\u001b[0m\u001b[0;34m.\u001b[0m\u001b[0mset_units\u001b[0m\u001b[0;34m(\u001b[0m\u001b[0mdefault\u001b[0m\u001b[0;34m)\u001b[0m\u001b[0;34m\u001b[0m\u001b[0;34m\u001b[0m\u001b[0m\n",
      "\u001b[0;32m/home/otabek/snap/jupyter/common/lib/python3.7/site-packages/matplotlib/category.py\u001b[0m in \u001b[0;36mdefault_units\u001b[0;34m(data, axis)\u001b[0m\n\u001b[1;32m    105\u001b[0m         \u001b[0;31m# the conversion call stack is default_units -> axis_info -> convert\u001b[0m\u001b[0;34m\u001b[0m\u001b[0;34m\u001b[0m\u001b[0;34m\u001b[0m\u001b[0m\n\u001b[1;32m    106\u001b[0m         \u001b[0;32mif\u001b[0m \u001b[0maxis\u001b[0m\u001b[0;34m.\u001b[0m\u001b[0munits\u001b[0m \u001b[0;32mis\u001b[0m \u001b[0;32mNone\u001b[0m\u001b[0;34m:\u001b[0m\u001b[0;34m\u001b[0m\u001b[0;34m\u001b[0m\u001b[0m\n\u001b[0;32m--> 107\u001b[0;31m             \u001b[0maxis\u001b[0m\u001b[0;34m.\u001b[0m\u001b[0mset_units\u001b[0m\u001b[0;34m(\u001b[0m\u001b[0mUnitData\u001b[0m\u001b[0;34m(\u001b[0m\u001b[0mdata\u001b[0m\u001b[0;34m)\u001b[0m\u001b[0;34m)\u001b[0m\u001b[0;34m\u001b[0m\u001b[0;34m\u001b[0m\u001b[0m\n\u001b[0m\u001b[1;32m    108\u001b[0m         \u001b[0;32melse\u001b[0m\u001b[0;34m:\u001b[0m\u001b[0;34m\u001b[0m\u001b[0;34m\u001b[0m\u001b[0m\n\u001b[1;32m    109\u001b[0m             \u001b[0maxis\u001b[0m\u001b[0;34m.\u001b[0m\u001b[0munits\u001b[0m\u001b[0;34m.\u001b[0m\u001b[0mupdate\u001b[0m\u001b[0;34m(\u001b[0m\u001b[0mdata\u001b[0m\u001b[0;34m)\u001b[0m\u001b[0;34m\u001b[0m\u001b[0;34m\u001b[0m\u001b[0m\n",
      "\u001b[0;32m/home/otabek/snap/jupyter/common/lib/python3.7/site-packages/matplotlib/category.py\u001b[0m in \u001b[0;36m__init__\u001b[0;34m(self, data)\u001b[0m\n\u001b[1;32m    174\u001b[0m         \u001b[0mself\u001b[0m\u001b[0;34m.\u001b[0m\u001b[0m_counter\u001b[0m \u001b[0;34m=\u001b[0m \u001b[0mitertools\u001b[0m\u001b[0;34m.\u001b[0m\u001b[0mcount\u001b[0m\u001b[0;34m(\u001b[0m\u001b[0;34m)\u001b[0m\u001b[0;34m\u001b[0m\u001b[0;34m\u001b[0m\u001b[0m\n\u001b[1;32m    175\u001b[0m         \u001b[0;32mif\u001b[0m \u001b[0mdata\u001b[0m \u001b[0;32mis\u001b[0m \u001b[0;32mnot\u001b[0m \u001b[0;32mNone\u001b[0m\u001b[0;34m:\u001b[0m\u001b[0;34m\u001b[0m\u001b[0;34m\u001b[0m\u001b[0m\n\u001b[0;32m--> 176\u001b[0;31m             \u001b[0mself\u001b[0m\u001b[0;34m.\u001b[0m\u001b[0mupdate\u001b[0m\u001b[0;34m(\u001b[0m\u001b[0mdata\u001b[0m\u001b[0;34m)\u001b[0m\u001b[0;34m\u001b[0m\u001b[0;34m\u001b[0m\u001b[0m\n\u001b[0m\u001b[1;32m    177\u001b[0m \u001b[0;34m\u001b[0m\u001b[0m\n\u001b[1;32m    178\u001b[0m     \u001b[0;34m@\u001b[0m\u001b[0mstaticmethod\u001b[0m\u001b[0;34m\u001b[0m\u001b[0;34m\u001b[0m\u001b[0m\n",
      "\u001b[0;32m/home/otabek/snap/jupyter/common/lib/python3.7/site-packages/matplotlib/category.py\u001b[0m in \u001b[0;36mupdate\u001b[0;34m(self, data)\u001b[0m\n\u001b[1;32m    207\u001b[0m         \u001b[0;31m# check if convertible to number:\u001b[0m\u001b[0;34m\u001b[0m\u001b[0;34m\u001b[0m\u001b[0;34m\u001b[0m\u001b[0m\n\u001b[1;32m    208\u001b[0m         \u001b[0mconvertible\u001b[0m \u001b[0;34m=\u001b[0m \u001b[0;32mTrue\u001b[0m\u001b[0;34m\u001b[0m\u001b[0;34m\u001b[0m\u001b[0m\n\u001b[0;32m--> 209\u001b[0;31m         \u001b[0;32mfor\u001b[0m \u001b[0mval\u001b[0m \u001b[0;32min\u001b[0m \u001b[0mOrderedDict\u001b[0m\u001b[0;34m.\u001b[0m\u001b[0mfromkeys\u001b[0m\u001b[0;34m(\u001b[0m\u001b[0mdata\u001b[0m\u001b[0;34m)\u001b[0m\u001b[0;34m:\u001b[0m\u001b[0;34m\u001b[0m\u001b[0;34m\u001b[0m\u001b[0m\n\u001b[0m\u001b[1;32m    210\u001b[0m             \u001b[0;31m# OrderedDict just iterates over unique values in data.\u001b[0m\u001b[0;34m\u001b[0m\u001b[0;34m\u001b[0m\u001b[0;34m\u001b[0m\u001b[0m\n\u001b[1;32m    211\u001b[0m             \u001b[0mcbook\u001b[0m\u001b[0;34m.\u001b[0m\u001b[0m_check_isinstance\u001b[0m\u001b[0;34m(\u001b[0m\u001b[0;34m(\u001b[0m\u001b[0mstr\u001b[0m\u001b[0;34m,\u001b[0m \u001b[0mbytes\u001b[0m\u001b[0;34m)\u001b[0m\u001b[0;34m,\u001b[0m \u001b[0mvalue\u001b[0m\u001b[0;34m=\u001b[0m\u001b[0mval\u001b[0m\u001b[0;34m)\u001b[0m\u001b[0;34m\u001b[0m\u001b[0;34m\u001b[0m\u001b[0m\n",
      "\u001b[0;31mTypeError\u001b[0m: unhashable type: 'numpy.ndarray'"
     ]
    },
    {
     "data": {
      "image/png": "[encoded data removed]",
      "text/plain": [
       "<Figure size 432x288 with 1 Axes>"
      ]
     },
     "metadata": {
      "needs_background": "light"
     },
     "output_type": "display_data"
    }
   ],
   "source": [
    "import matplotlib.pyplot as plt\n",
    "from sklearn import datasets, linear_model\n",
    "import pandas as pd\n",
    "\n",
    "total_cases = pd.read_csv('total_cases.csv')\n",
    "total_deaths = pd.read_csv('total_deaths.csv')\n",
    "new_cases = pd.read_csv('new_cases.csv')\n",
    "new_deaths = pd.read_csv('new_deaths.csv')\n",
    "full_data = pd.read_csv('full_data.csv')\n",
    "locations = pd.read_csv('locations.csv')\n",
    "\n",
    "plt.plot(full_data)"
   ]
  },
  {
   "cell_type": "code",
   "execution_count": 43,
   "metadata": {},
   "outputs": [
    {
     "name": "stdout",
     "output_type": "stream",
     "text": [
      "0      2019-12-31\n",
      "1      2020-01-01\n",
      "2      2020-01-02\n",
      "3      2020-01-03\n",
      "4      2020-01-04\n",
      "          ...    \n",
      "307    2020-11-02\n",
      "308    2020-11-03\n",
      "309    2020-11-04\n",
      "310    2020-11-05\n",
      "311    2020-11-06\n",
      "Name: date, Length: 312, dtype: object\n",
      "0            NaN\n",
      "1            NaN\n",
      "2            NaN\n",
      "3            NaN\n",
      "4            NaN\n",
      "         ...    \n",
      "307    1201844.0\n",
      "308    1207932.0\n",
      "309    1217765.0\n",
      "310    1226781.0\n",
      "311    1234371.0\n",
      "Name: World, Length: 312, dtype: float64\n"
     ]
    }
   ],
   "source": [
    "import matplotlib.pyplot as plt\n",
    "from sklearn import datasets, linear_model\n",
    "import pandas as pd\n",
    "\n",
    "total_cases = pd.read_csv('total_cases.csv')\n",
    "total_deaths = pd.read_csv('total_deaths.csv')\n",
    "\n",
    "df_d = pd.DataFrame(total_deaths)\n",
    "first_column = df_d.iloc[:, 0]\n",
    "second_column = df_d.iloc[:, 1]\n",
    "print(first_column)\n",
    "print(second_column)"
   ]
  }
 ],
 "metadata": {
  "kernelspec": {
   "display_name": "Python 3",
   "language": "python",
   "name": "python3"
  },
  "language_info": {
   "codemirror_mode": {
    "name": "ipython",
    "version": 3
   },
   "file_extension": ".py",
   "mimetype": "text/x-python",
   "name": "python",
   "nbconvert_exporter": "python",
   "pygments_lexer": "ipython3",
   "version": "3.7.3"
  }
 },
 "nbformat": 4,
 "nbformat_minor": 2
}
